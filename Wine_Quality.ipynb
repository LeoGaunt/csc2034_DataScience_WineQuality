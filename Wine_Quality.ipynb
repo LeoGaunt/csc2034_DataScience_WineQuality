{
  "nbformat": 4,
  "nbformat_minor": 0,
  "metadata": {
    "colab": {
      "provenance": [],
      "authorship_tag": "ABX9TyNInil5Z0NSHltsUJF30QcQ",
      "include_colab_link": true
    },
    "kernelspec": {
      "name": "python3",
      "display_name": "Python 3"
    },
    "language_info": {
      "name": "python"
    }
  },
  "cells": [
    {
      "cell_type": "markdown",
      "metadata": {
        "id": "view-in-github",
        "colab_type": "text"
      },
      "source": [
        "<a href=\"https://colab.research.google.com/github/LeoGaunt/csc2034_DataScience_WineQuality/blob/main/Wine_Quality.ipynb\" target=\"_parent\"><img src=\"https://colab.research.google.com/assets/colab-badge.svg\" alt=\"Open In Colab\"/></a>"
      ]
    },
    {
      "cell_type": "markdown",
      "source": [
        "# Creating a Machine Learning Model to predict the quality of wine\n"
      ],
      "metadata": {
        "id": "bA7dixiu4GTk"
      }
    },
    {
      "cell_type": "markdown",
      "source": [
        "This is the accompanying notebook for *Predicting Vihno Verde Wine Quality Using Machine Learning on Physiochemical Attributes* by Leo Gaunt. The Project Report can be found [here](https://github.com/LeoGaunt/csc2034_DataScience_WineQuality/blob/04c384c4cf80be6ba593efbe13633e7c4cff80dd/Project%20Report.pdf)\n",
        "\n",
        "To begin with clone the repository and change the directory"
      ],
      "metadata": {
        "id": "g48xq70FohjK"
      }
    },
    {
      "cell_type": "code",
      "execution_count": 1,
      "metadata": {
        "id": "PHXXfcdr37aW",
        "colab": {
          "base_uri": "https://localhost:8080/"
        },
        "outputId": "a3e4a2d8-df14-40a7-ac72-0a8f8ada766c"
      },
      "outputs": [
        {
          "output_type": "stream",
          "name": "stdout",
          "text": [
            "Cloning into 'csc2034_DataScience_WineQuality'...\n",
            "remote: Enumerating objects: 34, done.\u001b[K\n",
            "remote: Counting objects: 100% (34/34), done.\u001b[K\n",
            "remote: Compressing objects: 100% (31/31), done.\u001b[K\n",
            "remote: Total 34 (delta 11), reused 6 (delta 0), pack-reused 0 (from 0)\u001b[K\n",
            "Receiving objects: 100% (34/34), 1.19 MiB | 9.36 MiB/s, done.\n",
            "Resolving deltas: 100% (11/11), done.\n"
          ]
        }
      ],
      "source": [
        "!git clone https://github.com/LeoGaunt/csc2034_DataScience_WineQuality.git"
      ]
    },
    {
      "cell_type": "code",
      "source": [
        "import os\n",
        "os.chdir(\"csc2034_DataScience_WineQuality/data\")"
      ],
      "metadata": {
        "id": "WPniB5C3oGwD"
      },
      "execution_count": 2,
      "outputs": []
    },
    {
      "cell_type": "markdown",
      "source": [
        "## Exploring the 2 Datasets"
      ],
      "metadata": {
        "id": "Q8sFvzvEqXsc"
      }
    },
    {
      "cell_type": "markdown",
      "source": [
        "Now we have imported the datasets into collab, we can now explore the datasets and visualise them to help our understanding.\n",
        "\n",
        "We will first look at how many wines are of each quality.\n",
        "\n",
        "We start this process by loading all the data in from the csv using the `pandas` module"
      ],
      "metadata": {
        "id": "C_a_0PPzqZtw"
      }
    },
    {
      "cell_type": "code",
      "source": [
        "import pandas as pd\n",
        "\n",
        "# Load the Data\n",
        "red_wine = pd.read_csv(\"winequality-red.csv\", delimiter=\";\")\n",
        "white_wine = pd.read_csv(\"winequality-white.csv\", delimiter=\";\")"
      ],
      "metadata": {
        "id": "5_E0MgJfr2ys"
      },
      "execution_count": 3,
      "outputs": []
    },
    {
      "cell_type": "markdown",
      "source": [
        "### Data Validation"
      ],
      "metadata": {
        "id": "E6a7AJ3Q7b2e"
      }
    },
    {
      "cell_type": "markdown",
      "source": [
        "Now that the data has been imported, the data can be validated. We will check that:\n",
        "\n",
        "*   No values are missing\n",
        "*   Values are numeric\n",
        "\n"
      ],
      "metadata": {
        "id": "1Lc1sJNvbHAS"
      }
    },
    {
      "cell_type": "code",
      "source": [
        "# Check for missing values (Outputs True if correct)\n",
        "print(\"Red Wine Complete Dataset: \", not red_wine.isnull().values.any())\n",
        "print(\"White Wine Complete Dataset: \", not white_wine.isnull().values.any())\n",
        "\n",
        "# Check all values are numeric (Outputs True if correct)\n",
        "print(\"Red Wine All Numeric: \", red_wine.select_dtypes(exclude=['number']).empty)\n",
        "print(\"White Wine All Numeric: \", white_wine.select_dtypes(exclude=['number']).empty)"
      ],
      "metadata": {
        "colab": {
          "base_uri": "https://localhost:8080/"
        },
        "id": "LtTSTUNqbeY8",
        "outputId": "1bd4fcaa-a701-4de7-8984-1c3dbae23016"
      },
      "execution_count": 4,
      "outputs": [
        {
          "output_type": "stream",
          "name": "stdout",
          "text": [
            "Red Wine Complete Dataset:  True\n",
            "White Wine Complete Dataset:  True\n",
            "Red Wine All Numeric:  True\n",
            "White Wine All Numeric:  True\n"
          ]
        }
      ]
    },
    {
      "cell_type": "markdown",
      "source": [
        "### Data Exploration"
      ],
      "metadata": {
        "id": "IaA_aCFQ7hds"
      }
    },
    {
      "cell_type": "markdown",
      "source": [
        "Throughout this investigaiton we may also want to refer to both datasets as a whole, instead of seperately as red and white wine."
      ],
      "metadata": {
        "id": "xYl9CXzLfU3M"
      }
    },
    {
      "cell_type": "code",
      "source": [
        "wine_all = pd.concat([red_wine, white_wine], ignore_index=True)"
      ],
      "metadata": {
        "id": "m_maI-UwfkeM"
      },
      "execution_count": 5,
      "outputs": []
    },
    {
      "cell_type": "markdown",
      "source": [
        "Now that we have loaded the data we can have a look at how many wines in both red and white are of which quality"
      ],
      "metadata": {
        "id": "sYPg85A3s11J"
      }
    },
    {
      "cell_type": "code",
      "source": [
        "# Check unique quality values\n",
        "print(red_wine[\"quality\"].value_counts().sort_index())\n",
        "print(white_wine[\"quality\"].value_counts().sort_index())\n",
        "print(wine_all[\"quality\"].value_counts().sort_index())"
      ],
      "metadata": {
        "colab": {
          "base_uri": "https://localhost:8080/"
        },
        "id": "C093rqhFt842",
        "outputId": "caea2d84-fb43-415f-e1cd-922c5b589a01"
      },
      "execution_count": 6,
      "outputs": [
        {
          "output_type": "stream",
          "name": "stdout",
          "text": [
            "quality\n",
            "3     10\n",
            "4     53\n",
            "5    681\n",
            "6    638\n",
            "7    199\n",
            "8     18\n",
            "Name: count, dtype: int64\n",
            "quality\n",
            "3      20\n",
            "4     163\n",
            "5    1457\n",
            "6    2198\n",
            "7     880\n",
            "8     175\n",
            "9       5\n",
            "Name: count, dtype: int64\n",
            "quality\n",
            "3      30\n",
            "4     216\n",
            "5    2138\n",
            "6    2836\n",
            "7    1079\n",
            "8     193\n",
            "9       5\n",
            "Name: count, dtype: int64\n"
          ]
        }
      ]
    },
    {
      "cell_type": "markdown",
      "source": [
        "We can now see the values of the qualities of each wine, however it would be much better if we could see this on a graph to visualise the data. We aregoing to use `matplotlib` to create a histogram and box plot for this data"
      ],
      "metadata": {
        "id": "W4000tDLueo0"
      }
    },
    {
      "cell_type": "code",
      "source": [
        "import matplotlib.pyplot as plt\n",
        "\n",
        "# Plot the distributions\n",
        "\n",
        "plt.hist(red_wine[\"quality\"], alpha=0.5, label=\"Red Wine\", color=\"red\", bins=range(3, 10))\n",
        "plt.hist(white_wine[\"quality\"], alpha=0.5, label=\"White Wine\", color=\"blue\", bins=range(3, 10))\n",
        "plt.legend(loc=\"upper right\")\n",
        "plt.xlabel(\"Quality Score\")\n",
        "plt.ylabel(\"Count\")\n",
        "plt.title(\"Quality Distribution of Red and White Wines\")\n",
        "plt.show()\n",
        "\n",
        "plt.figure(figsize=(12,6))\n",
        "plt.boxplot([red_wine[\"quality\"], white_wine[\"quality\"]], tick_labels=[\"Red Wine\", \"White Wine\"])\n",
        "plt.xlabel(\"Wine Type\")\n",
        "plt.ylabel(\"Quality Score\")\n",
        "plt.title(\"Quality Distribution of Red and White Wines\")\n",
        "plt.show()"
      ],
      "metadata": {
        "colab": {
          "base_uri": "https://localhost:8080/",
          "height": 902
        },
        "id": "rmpBpeJGuxFt",
        "outputId": "68cf9433-9113-4cfe-b559-fa28c7813f39"
      },
      "execution_count": 7,
      "outputs": [
        {
          "output_type": "display_data",
          "data": {
            "text/plain": [
              "<Figure size 640x480 with 1 Axes>"
            ],
            "image/png": "[encoded data removed]"
          },
          "metadata": {}
        },
        {
          "output_type": "display_data",
          "data": {
            "text/plain": [
              "<Figure size 1200x600 with 1 Axes>"
            ],
            "image/png": "[encoded data removed]"
          },
          "metadata": {}
        }
      ]
    },
    {
      "cell_type": "markdown",
      "source": [
        "Although these graphs were technically correct, we can see that the histogram was harder to interpret due to the difference in datapoints. Therefore we must normalise the data before interpreting, to make it easier to interpret."
      ],
      "metadata": {
        "id": "YE11iQuMwVwF"
      }
    },
    {
      "cell_type": "code",
      "source": [
        "import seaborn as sns\n",
        "\n",
        "plt.figure(figsize=(12,6))\n",
        "sns.histplot(red_wine[\"quality\"], bins=range(3, 10), kde=False, color=\"red\", label=\"Red Wine\", alpha=0.6, stat=\"density\")\n",
        "sns.histplot(white_wine[\"quality\"], bins=range(3, 10), kde=False, color=\"blue\", label=\"White Wine\", alpha=0.6, stat=\"density\")\n",
        "plt.xlabel(\"Quality Score\")\n",
        "plt.ylabel(\"Density\")\n",
        "plt.title(\"Normalised Quality Distribution of Red and White Wines\")\n",
        "plt.legend()\n",
        "plt.xticks(range(3, 10))\n",
        "plt.grid(axis=\"y\", linestyle=\"--\", alpha=0.7)\n",
        "plt.show()"
      ],
      "metadata": {
        "colab": {
          "base_uri": "https://localhost:8080/",
          "height": 442
        },
        "id": "UUo_N8GXwWAe",
        "outputId": "d5066815-eaed-48c3-9f05-9363c9e1a479"
      },
      "execution_count": 8,
      "outputs": [
        {
          "output_type": "display_data",
          "data": {
            "text/plain": [
              "<Figure size 1200x600 with 1 Axes>"
            ],
            "image/png": "[encoded data removed]"
          },
          "metadata": {}
        }
      ]
    },
    {
      "cell_type": "markdown",
      "source": [
        "Now that the graph is normalised, it is much easier to see that white wines have a higher density of higher quality ratings compared to the red wine."
      ],
      "metadata": {
        "id": "xK9BwgY98PDX"
      }
    },
    {
      "cell_type": "markdown",
      "source": [
        "After looking at the wines separately for reds and whites, I want to now look at both datasets together to make some generalised comments"
      ],
      "metadata": {
        "id": "JoThlf3ugEyv"
      }
    },
    {
      "cell_type": "code",
      "source": [
        "import seaborn as sns\n",
        "\n",
        "plt.figure(figsize=(12,6))\n",
        "sns.histplot(wine_all[\"quality\"], bins=range(3, 10), kde=False, stat=\"density\")\n",
        "plt.xlabel(\"Quality Score\")\n",
        "plt.ylabel(\"Density\")\n",
        "plt.title(\"Normalised Quality Distribution of All Wines\")\n",
        "plt.xticks(range(3, 10))\n",
        "plt.grid(axis=\"y\", linestyle=\"--\", alpha=0.7)\n",
        "plt.show()"
      ],
      "metadata": {
        "colab": {
          "base_uri": "https://localhost:8080/",
          "height": 442
        },
        "id": "4mPSZJ7ugPyH",
        "outputId": "e92445ac-02d8-4226-be6e-035834de1698"
      },
      "execution_count": 9,
      "outputs": [
        {
          "output_type": "display_data",
          "data": {
            "text/plain": [
              "<Figure size 1200x600 with 1 Axes>"
            ],
            "image/png": "[encoded data removed]"
          },
          "metadata": {}
        }
      ]
    },
    {
      "cell_type": "markdown",
      "source": [
        "There isn't too much difference between this graph and both the red and white wine graph, as both types predominantly scored between 5 and 7 in quality. This indicates that independent of the wine colour, there were similar physiochemical factors influencing the wine types"
      ],
      "metadata": {
        "id": "y2Chkkh68FDd"
      }
    },
    {
      "cell_type": "markdown",
      "source": [
        "### Comparing quality against alcohol content\n",
        "\n",
        "To make comments about quality against alcohol content, it may be easier to work with categories so it is easier to compare. We can do this by discretising the alcohol content variables into low, med and high based on its distribution. This will be decided by\n",
        "\n",
        "* `low < (avg - stddev)`\n",
        "* `(avg - stddev) < med < (avg + stddev)`\n",
        "* `(avg + stddev) < high`\n",
        "\n",
        "We will create a 3-valued `alcohol_cat` variable that will be added to easach `DataFrame` to hold this information."
      ],
      "metadata": {
        "id": "aKE-FJFA5kn9"
      }
    },
    {
      "cell_type": "code",
      "source": [
        "red_bins = [0,\n",
        "        (red_wine[\"alcohol\"].mean() - red_wine[\"alcohol\"].std()),\n",
        "        (red_wine[\"alcohol\"].mean() + red_wine[\"alcohol\"].std()),\n",
        "        float('inf')]\n",
        "\n",
        "white_bins = [0,\n",
        "        (white_wine[\"alcohol\"].mean() - white_wine[\"alcohol\"].std()),\n",
        "        (white_wine[\"alcohol\"].mean() + white_wine[\"alcohol\"].std()),\n",
        "        float('inf')]\n",
        "\n",
        "labels = [\"low\", \"med\", \"high\"]\n",
        "\n",
        "red_wine[\"alcohol_cat\"] = pd.cut(red_wine[\"alcohol\"], bins=red_bins, labels=labels)\n",
        "white_wine[\"alcohol_cat\"] = pd.cut(white_wine[\"alcohol\"], bins=white_bins, labels=labels)"
      ],
      "metadata": {
        "id": "tGvYUNEH7oVb"
      },
      "execution_count": 10,
      "outputs": []
    },
    {
      "cell_type": "markdown",
      "source": [
        "Now that the wines have been sorted into discrete bins, we can update this into the `wines_all` DataFrame and then view the raw values."
      ],
      "metadata": {
        "id": "0ZYKERPaAh6l"
      }
    },
    {
      "cell_type": "code",
      "source": [
        "wine_all = pd.concat([red_wine, white_wine], ignore_index=True)"
      ],
      "metadata": {
        "id": "0LA1zt9iKHxr"
      },
      "execution_count": null,
      "outputs": []
    },
    {
      "cell_type": "code",
      "source": [
        "print(red_wine[\"alcohol_cat\"].value_counts().sort_index())\n",
        "print(white_wine[\"alcohol_cat\"].value_counts().sort_index())"
      ],
      "metadata": {
        "colab": {
          "base_uri": "https://localhost:8080/"
        },
        "id": "bKnZsNjpAwv_",
        "outputId": "455df487-fa4e-45cf-ec58-53cafacfee1f"
      },
      "execution_count": 11,
      "outputs": [
        {
          "output_type": "stream",
          "name": "stdout",
          "text": [
            "alcohol_cat\n",
            "low      194\n",
            "med     1125\n",
            "high     280\n",
            "Name: count, dtype: int64\n",
            "alcohol_cat\n",
            "low      845\n",
            "med     3121\n",
            "high     932\n",
            "Name: count, dtype: int64\n"
          ]
        }
      ]
    },
    {
      "cell_type": "markdown",
      "source": [
        "We can now describe the wine quality as we did earlier, but serperately for low, mid and high alcohol content. However this is now going to be done with a combination of all wines, not separate for red and white."
      ],
      "metadata": {
        "id": "iy6jy0EOCFtd"
      }
    },
    {
      "cell_type": "markdown",
      "source": [
        "We will now create a boxplot to be able to explore the comparisons."
      ],
      "metadata": {
        "id": "5L6847Kkj81G"
      }
    },
    {
      "cell_type": "code",
      "source": [
        "plt.figure(figsize=(8,6))\n",
        "sns.boxplot(x=\"alcohol_cat\", y=\"quality\", data=wine_all, hue=\"alcohol_cat\", palette=\"coolwarm\")\n",
        "plt.title(\"Wine Quality by Alcohol Content Group (All Wines)\")\n",
        "plt.xlabel(\"Alcohol Group\")\n",
        "plt.ylabel(\"Quality Score\")\n",
        "plt.grid(axis=\"y\", linestyle=\"--\", alpha=0.5)\n",
        "plt.show()"
      ],
      "metadata": {
        "colab": {
          "base_uri": "https://localhost:8080/",
          "height": 418
        },
        "id": "O8fh_wxrj8eN",
        "outputId": "28a33967-07f1-4a9d-b428-fef2c56de6a9"
      },
      "execution_count": 13,
      "outputs": [
        {
          "output_type": "error",
          "ename": "ValueError",
          "evalue": "Could not interpret value `alcohol_cat` for `x`. An entry with this name does not appear in `data`.",
          "traceback": [
            "\u001b[0;31m---------------------------------------------------------------------------\u001b[0m",
            "\u001b[0;31mValueError\u001b[0m                                Traceback (most recent call last)",
            "\u001b[0;32m<ipython-input-13-134b17532848>\u001b[0m in \u001b[0;36m<cell line: 0>\u001b[0;34m()\u001b[0m\n\u001b[1;32m      1\u001b[0m \u001b[0mplt\u001b[0m\u001b[0;34m.\u001b[0m\u001b[0mfigure\u001b[0m\u001b[0;34m(\u001b[0m\u001b[0mfigsize\u001b[0m\u001b[0;34m=\u001b[0m\u001b[0;34m(\u001b[0m\u001b[0;36m8\u001b[0m\u001b[0;34m,\u001b[0m\u001b[0;36m6\u001b[0m\u001b[0;34m)\u001b[0m\u001b[0;34m)\u001b[0m\u001b[0;34m\u001b[0m\u001b[0;34m\u001b[0m\u001b[0m\n\u001b[0;32m----> 2\u001b[0;31m \u001b[0msns\u001b[0m\u001b[0;34m.\u001b[0m\u001b[0mboxplot\u001b[0m\u001b[0;34m(\u001b[0m\u001b[0mx\u001b[0m\u001b[0;34m=\u001b[0m\u001b[0;34m\"alcohol_cat\"\u001b[0m\u001b[0;34m,\u001b[0m \u001b[0my\u001b[0m\u001b[0;34m=\u001b[0m\u001b[0;34m\"quality\"\u001b[0m\u001b[0;34m,\u001b[0m \u001b[0mdata\u001b[0m\u001b[0;34m=\u001b[0m\u001b[0mwine_all\u001b[0m\u001b[0;34m,\u001b[0m \u001b[0mhue\u001b[0m\u001b[0;34m=\u001b[0m\u001b[0;34m\"alcohol_cat\"\u001b[0m\u001b[0;34m,\u001b[0m \u001b[0mpalette\u001b[0m\u001b[0;34m=\u001b[0m\u001b[0;34m\"coolwarm\"\u001b[0m\u001b[0;34m)\u001b[0m\u001b[0;34m\u001b[0m\u001b[0;34m\u001b[0m\u001b[0m\n\u001b[0m\u001b[1;32m      3\u001b[0m \u001b[0mplt\u001b[0m\u001b[0;34m.\u001b[0m\u001b[0mtitle\u001b[0m\u001b[0;34m(\u001b[0m\u001b[0;34m\"Wine Quality by Alcohol Content Group (All Wines)\"\u001b[0m\u001b[0;34m)\u001b[0m\u001b[0;34m\u001b[0m\u001b[0;34m\u001b[0m\u001b[0m\n\u001b[1;32m      4\u001b[0m \u001b[0mplt\u001b[0m\u001b[0;34m.\u001b[0m\u001b[0mxlabel\u001b[0m\u001b[0;34m(\u001b[0m\u001b[0;34m\"Alcohol Group\"\u001b[0m\u001b[0;34m)\u001b[0m\u001b[0;34m\u001b[0m\u001b[0;34m\u001b[0m\u001b[0m\n\u001b[1;32m      5\u001b[0m \u001b[0mplt\u001b[0m\u001b[0;34m.\u001b[0m\u001b[0mylabel\u001b[0m\u001b[0;34m(\u001b[0m\u001b[0;34m\"Quality Score\"\u001b[0m\u001b[0;34m)\u001b[0m\u001b[0;34m\u001b[0m\u001b[0;34m\u001b[0m\u001b[0m\n",
            "\u001b[0;32m/usr/local/lib/python3.11/dist-packages/seaborn/categorical.py\u001b[0m in \u001b[0;36mboxplot\u001b[0;34m(data, x, y, hue, order, hue_order, orient, color, palette, saturation, fill, dodge, width, gap, whis, linecolor, linewidth, fliersize, hue_norm, native_scale, log_scale, formatter, legend, ax, **kwargs)\u001b[0m\n\u001b[1;32m   1595\u001b[0m ):\n\u001b[1;32m   1596\u001b[0m \u001b[0;34m\u001b[0m\u001b[0m\n\u001b[0;32m-> 1597\u001b[0;31m     p = _CategoricalPlotter(\n\u001b[0m\u001b[1;32m   1598\u001b[0m         \u001b[0mdata\u001b[0m\u001b[0;34m=\u001b[0m\u001b[0mdata\u001b[0m\u001b[0;34m,\u001b[0m\u001b[0;34m\u001b[0m\u001b[0;34m\u001b[0m\u001b[0m\n\u001b[1;32m   1599\u001b[0m         \u001b[0mvariables\u001b[0m\u001b[0;34m=\u001b[0m\u001b[0mdict\u001b[0m\u001b[0;34m(\u001b[0m\u001b[0mx\u001b[0m\u001b[0;34m=\u001b[0m\u001b[0mx\u001b[0m\u001b[0;34m,\u001b[0m \u001b[0my\u001b[0m\u001b[0;34m=\u001b[0m\u001b[0my\u001b[0m\u001b[0;34m,\u001b[0m \u001b[0mhue\u001b[0m\u001b[0;34m=\u001b[0m\u001b[0mhue\u001b[0m\u001b[0;34m)\u001b[0m\u001b[0;34m,\u001b[0m\u001b[0;34m\u001b[0m\u001b[0;34m\u001b[0m\u001b[0m\n",
            "\u001b[0;32m/usr/local/lib/python3.11/dist-packages/seaborn/categorical.py\u001b[0m in \u001b[0;36m__init__\u001b[0;34m(self, data, variables, order, orient, require_numeric, color, legend)\u001b[0m\n\u001b[1;32m     65\u001b[0m     ):\n\u001b[1;32m     66\u001b[0m \u001b[0;34m\u001b[0m\u001b[0m\n\u001b[0;32m---> 67\u001b[0;31m         \u001b[0msuper\u001b[0m\u001b[0;34m(\u001b[0m\u001b[0;34m)\u001b[0m\u001b[0;34m.\u001b[0m\u001b[0m__init__\u001b[0m\u001b[0;34m(\u001b[0m\u001b[0mdata\u001b[0m\u001b[0;34m=\u001b[0m\u001b[0mdata\u001b[0m\u001b[0;34m,\u001b[0m \u001b[0mvariables\u001b[0m\u001b[0;34m=\u001b[0m\u001b[0mvariables\u001b[0m\u001b[0;34m)\u001b[0m\u001b[0;34m\u001b[0m\u001b[0;34m\u001b[0m\u001b[0m\n\u001b[0m\u001b[1;32m     68\u001b[0m \u001b[0;34m\u001b[0m\u001b[0m\n\u001b[1;32m     69\u001b[0m         \u001b[0;31m# This method takes care of some bookkeeping that is necessary because the\u001b[0m\u001b[0;34m\u001b[0m\u001b[0;34m\u001b[0m\u001b[0m\n",
            "\u001b[0;32m/usr/local/lib/python3.11/dist-packages/seaborn/_base.py\u001b[0m in \u001b[0;36m__init__\u001b[0;34m(self, data, variables)\u001b[0m\n\u001b[1;32m    632\u001b[0m         \u001b[0;31m# information for numeric axes would be information about log scales.\u001b[0m\u001b[0;34m\u001b[0m\u001b[0;34m\u001b[0m\u001b[0m\n\u001b[1;32m    633\u001b[0m         \u001b[0mself\u001b[0m\u001b[0;34m.\u001b[0m\u001b[0m_var_ordered\u001b[0m \u001b[0;34m=\u001b[0m \u001b[0;34m{\u001b[0m\u001b[0;34m\"x\"\u001b[0m\u001b[0;34m:\u001b[0m \u001b[0;32mFalse\u001b[0m\u001b[0;34m,\u001b[0m \u001b[0;34m\"y\"\u001b[0m\u001b[0;34m:\u001b[0m \u001b[0;32mFalse\u001b[0m\u001b[0;34m}\u001b[0m  \u001b[0;31m# alt., used DefaultDict\u001b[0m\u001b[0;34m\u001b[0m\u001b[0;34m\u001b[0m\u001b[0m\n\u001b[0;32m--> 634\u001b[0;31m         \u001b[0mself\u001b[0m\u001b[0;34m.\u001b[0m\u001b[0massign_variables\u001b[0m\u001b[0;34m(\u001b[0m\u001b[0mdata\u001b[0m\u001b[0;34m,\u001b[0m \u001b[0mvariables\u001b[0m\u001b[0;34m)\u001b[0m\u001b[0;34m\u001b[0m\u001b[0;34m\u001b[0m\u001b[0m\n\u001b[0m\u001b[1;32m    635\u001b[0m \u001b[0;34m\u001b[0m\u001b[0m\n\u001b[1;32m    636\u001b[0m         \u001b[0;31m# TODO Lots of tests assume that these are called to initialize the\u001b[0m\u001b[0;34m\u001b[0m\u001b[0;34m\u001b[0m\u001b[0m\n",
            "\u001b[0;32m/usr/local/lib/python3.11/dist-packages/seaborn/_base.py\u001b[0m in \u001b[0;36massign_variables\u001b[0;34m(self, data, variables)\u001b[0m\n\u001b[1;32m    677\u001b[0m             \u001b[0;31m# to centralize / standardize data consumption logic.\u001b[0m\u001b[0;34m\u001b[0m\u001b[0;34m\u001b[0m\u001b[0m\n\u001b[1;32m    678\u001b[0m             \u001b[0mself\u001b[0m\u001b[0;34m.\u001b[0m\u001b[0minput_format\u001b[0m \u001b[0;34m=\u001b[0m \u001b[0;34m\"long\"\u001b[0m\u001b[0;34m\u001b[0m\u001b[0;34m\u001b[0m\u001b[0m\n\u001b[0;32m--> 679\u001b[0;31m             \u001b[0mplot_data\u001b[0m \u001b[0;34m=\u001b[0m \u001b[0mPlotData\u001b[0m\u001b[0;34m(\u001b[0m\u001b[0mdata\u001b[0m\u001b[0;34m,\u001b[0m \u001b[0mvariables\u001b[0m\u001b[0;34m)\u001b[0m\u001b[0;34m\u001b[0m\u001b[0;34m\u001b[0m\u001b[0m\n\u001b[0m\u001b[1;32m    680\u001b[0m             \u001b[0mframe\u001b[0m \u001b[0;34m=\u001b[0m \u001b[0mplot_data\u001b[0m\u001b[0;34m.\u001b[0m\u001b[0mframe\u001b[0m\u001b[0;34m\u001b[0m\u001b[0;34m\u001b[0m\u001b[0m\n\u001b[1;32m    681\u001b[0m             \u001b[0mnames\u001b[0m \u001b[0;34m=\u001b[0m \u001b[0mplot_data\u001b[0m\u001b[0;34m.\u001b[0m\u001b[0mnames\u001b[0m\u001b[0;34m\u001b[0m\u001b[0;34m\u001b[0m\u001b[0m\n",
            "\u001b[0;32m/usr/local/lib/python3.11/dist-packages/seaborn/_core/data.py\u001b[0m in \u001b[0;36m__init__\u001b[0;34m(self, data, variables)\u001b[0m\n\u001b[1;32m     56\u001b[0m \u001b[0;34m\u001b[0m\u001b[0m\n\u001b[1;32m     57\u001b[0m         \u001b[0mdata\u001b[0m \u001b[0;34m=\u001b[0m \u001b[0mhandle_data_source\u001b[0m\u001b[0;34m(\u001b[0m\u001b[0mdata\u001b[0m\u001b[0;34m)\u001b[0m\u001b[0;34m\u001b[0m\u001b[0;34m\u001b[0m\u001b[0m\n\u001b[0;32m---> 58\u001b[0;31m         \u001b[0mframe\u001b[0m\u001b[0;34m,\u001b[0m \u001b[0mnames\u001b[0m\u001b[0;34m,\u001b[0m \u001b[0mids\u001b[0m \u001b[0;34m=\u001b[0m \u001b[0mself\u001b[0m\u001b[0;34m.\u001b[0m\u001b[0m_assign_variables\u001b[0m\u001b[0;34m(\u001b[0m\u001b[0mdata\u001b[0m\u001b[0;34m,\u001b[0m \u001b[0mvariables\u001b[0m\u001b[0;34m)\u001b[0m\u001b[0;34m\u001b[0m\u001b[0;34m\u001b[0m\u001b[0m\n\u001b[0m\u001b[1;32m     59\u001b[0m \u001b[0;34m\u001b[0m\u001b[0m\n\u001b[1;32m     60\u001b[0m         \u001b[0mself\u001b[0m\u001b[0;34m.\u001b[0m\u001b[0mframe\u001b[0m \u001b[0;34m=\u001b[0m \u001b[0mframe\u001b[0m\u001b[0;34m\u001b[0m\u001b[0;34m\u001b[0m\u001b[0m\n",
            "\u001b[0;32m/usr/local/lib/python3.11/dist-packages/seaborn/_core/data.py\u001b[0m in \u001b[0;36m_assign_variables\u001b[0;34m(self, data, variables)\u001b[0m\n\u001b[1;32m    230\u001b[0m                 \u001b[0;32melse\u001b[0m\u001b[0;34m:\u001b[0m\u001b[0;34m\u001b[0m\u001b[0;34m\u001b[0m\u001b[0m\n\u001b[1;32m    231\u001b[0m                     \u001b[0merr\u001b[0m \u001b[0;34m+=\u001b[0m \u001b[0;34m\"An entry with this name does not appear in `data`.\"\u001b[0m\u001b[0;34m\u001b[0m\u001b[0;34m\u001b[0m\u001b[0m\n\u001b[0;32m--> 232\u001b[0;31m                 \u001b[0;32mraise\u001b[0m \u001b[0mValueError\u001b[0m\u001b[0;34m(\u001b[0m\u001b[0merr\u001b[0m\u001b[0;34m)\u001b[0m\u001b[0;34m\u001b[0m\u001b[0;34m\u001b[0m\u001b[0m\n\u001b[0m\u001b[1;32m    233\u001b[0m \u001b[0;34m\u001b[0m\u001b[0m\n\u001b[1;32m    234\u001b[0m             \u001b[0;32melse\u001b[0m\u001b[0;34m:\u001b[0m\u001b[0;34m\u001b[0m\u001b[0;34m\u001b[0m\u001b[0m\n",
            "\u001b[0;31mValueError\u001b[0m: Could not interpret value `alcohol_cat` for `x`. An entry with this name does not appear in `data`."
          ]
        },
        {
          "output_type": "display_data",
          "data": {
            "text/plain": [
              "<Figure size 800x600 with 0 Axes>"
            ]
          },
          "metadata": {}
        }
      ]
    },
    {
      "cell_type": "markdown",
      "source": [
        "### Plotting the residual sugar variable and identify \"sweet\" and \"dry\" wines"
      ],
      "metadata": {
        "id": "rz9qP9JsEaNr"
      }
    },
    {
      "cell_type": "markdown",
      "source": [
        "Plotting a histogram will help us get a visual idea of how the wines' residual sugar values are distributed"
      ],
      "metadata": {
        "id": "1tk8F8AgEr9f"
      }
    },
    {
      "cell_type": "code",
      "source": [
        "plt.hist(wine_all[\"residual sugar\"], alpha=0.5, bins=range(0, 25))\n",
        "plt.xlabel(\"Residual Sugar\")\n",
        "plt.ylabel(\"Count\")\n",
        "plt.title(\"Residual Sugar Distribution of Wines\")\n",
        "plt.show()"
      ],
      "metadata": {
        "id": "T_Y3eSgsE2fC"
      },
      "execution_count": null,
      "outputs": []
    },
    {
      "cell_type": "markdown",
      "source": [
        "We can now split the wines at the threshold which I decided to be the median."
      ],
      "metadata": {
        "id": "a6jJ12ldFIsf"
      }
    },
    {
      "cell_type": "code",
      "source": [
        "threshold = wine_all[\"residual sugar\"].median()\n",
        "print(\"Threshold for 'isSweet':\", threshold)\n",
        "wine_all[\"isSweet\"] = wine_all[\"residual sugar\"] > threshold"
      ],
      "metadata": {
        "id": "nMVEuuI-lbvU"
      },
      "execution_count": null,
      "outputs": []
    },
    {
      "cell_type": "markdown",
      "source": [
        "### Distribution Analysis of Quality vs isSweet"
      ],
      "metadata": {
        "id": "5Yz-c5ONH0KH"
      }
    },
    {
      "cell_type": "markdown",
      "source": [
        "To view the distribution of the quality scores between dry and sweet wines we can use a boxplot to get a side-by-side comparison"
      ],
      "metadata": {
        "id": "mDQyA7U2IFWo"
      }
    },
    {
      "cell_type": "code",
      "source": [
        "plt.figure(figsize=(8,6))\n",
        "sns.boxplot(x=\"isSweet\", y=\"quality\", data=wine_all, hue=\"isSweet\", palette=[\"#66c2a5\", \"#fc8d62\"])\n",
        "plt.xticks([0, 1], [\"Dry\", \"Sweet\"])\n",
        "plt.xlabel(\"Sweetness\")\n",
        "plt.ylabel(\"Quality Score\")\n",
        "plt.title(\"Wine Quality Distribution: Dry vs Sweet\")\n",
        "plt.grid(axis=\"y\", linestyle=\"--\", alpha=0.5)\n",
        "plt.show()"
      ],
      "metadata": {
        "id": "RMMkzSNymSOa"
      },
      "execution_count": null,
      "outputs": []
    },
    {
      "cell_type": "markdown",
      "source": [
        "## Determining which subset of variables is most useful for learning"
      ],
      "metadata": {
        "id": "J8JvwOeSIo7o"
      }
    },
    {
      "cell_type": "markdown",
      "source": [
        "For this part, we need to calculate the correlations between each pair the variables. we do this by creating a Correlation Matrix. We will do this by using the `seaborn` package and displaying as a heatmap"
      ],
      "metadata": {
        "id": "p5FnPFBkI0Ft"
      }
    },
    {
      "cell_type": "code",
      "source": [
        "corr_matrix = wine_all.corr(numeric_only=True)\n",
        "sns.heatmap(corr_matrix, annot=True, cmap=\"coolwarm\", fmt=\".2f\", linewidths=0.5)\n",
        "plt.title(\"Correlation Matrix of All Wine Features\")\n",
        "plt.show()"
      ],
      "metadata": {
        "id": "O_pFqDMCLAr2"
      },
      "execution_count": null,
      "outputs": []
    },
    {
      "cell_type": "markdown",
      "source": [
        "I have chosen to use the pearson ranking method so we can look at feature-feature relationships to anaylse redundancy as well as feature-quality"
      ],
      "metadata": {
        "id": "Za40IddkMvVg"
      }
    },
    {
      "cell_type": "markdown",
      "source": [
        "For the models we are going to use the 5 most correlated features with quality. These were\n",
        "\n",
        "| Feature | Correllation |\n",
        "| --- | ---|\n",
        "| alcohol | +0.44 |\n",
        "| sulphates | +0.25 |\n",
        "| volitile acidity | -0.27 |\n",
        "| density | -0.26 |\n",
        "| chlorides | -0.20 |"
      ],
      "metadata": {
        "id": "th_tnG88vilw"
      }
    },
    {
      "cell_type": "markdown",
      "source": [
        "## Experiment with machine learning approaches"
      ],
      "metadata": {
        "id": "-qytirzzNc3Y"
      }
    },
    {
      "cell_type": "markdown",
      "source": [
        "We will begin by creating binary classifiers then move onto continuous regressors"
      ],
      "metadata": {
        "id": "V3LQC5r-tdcD"
      }
    },
    {
      "cell_type": "markdown",
      "source": [
        "### Binary Classification"
      ],
      "metadata": {
        "id": "41HMEF-UxaWp"
      }
    },
    {
      "cell_type": "markdown",
      "source": [
        "We will start by creating a new column on the `DataFrame` that allows us to determine between 1 for high quality and 0 for low quality. The initial threshold will be 6."
      ],
      "metadata": {
        "id": "UlBKTUgQvHaB"
      }
    },
    {
      "cell_type": "code",
      "source": [
        "wine_all[\"quality_label\"] = (wine_all[\"quality\"] >= 6).astype(int)"
      ],
      "metadata": {
        "id": "opR8Xo_TxaAv"
      },
      "execution_count": null,
      "outputs": []
    },
    {
      "cell_type": "markdown",
      "source": [
        "We can now define X and y with the selected features"
      ],
      "metadata": {
        "id": "DtO_du--wd-3"
      }
    },
    {
      "cell_type": "code",
      "source": [
        "features = [\"alcohol\", \"sulphates\", \"volatile acidity\", \"density\", \"chlorides\"]\n",
        "\n",
        "X = wine_all[features]\n",
        "y_binary = wine_all[\"quality_label\"]"
      ],
      "metadata": {
        "id": "35Bskz9FwhyO"
      },
      "execution_count": null,
      "outputs": []
    },
    {
      "cell_type": "markdown",
      "source": [
        "We can now split and scale the data.\n",
        "\n",
        "First we need to import the needed packages"
      ],
      "metadata": {
        "id": "t-qrmcgAws8V"
      }
    },
    {
      "cell_type": "code",
      "source": [
        "from sklearn.model_selection import train_test_split\n",
        "from sklearn.preprocessing import StandardScaler"
      ],
      "metadata": {
        "id": "jfMHr8VYBHAd"
      },
      "execution_count": null,
      "outputs": []
    },
    {
      "cell_type": "markdown",
      "source": [
        "And now split the data into the test and train counterparts, and scale the data"
      ],
      "metadata": {
        "id": "IlkcWZVYBLHw"
      }
    },
    {
      "cell_type": "code",
      "source": [
        "# 80% train, 20% test split\n",
        "X_train_clf, X_test_clf, y_train_clf, y_test_clf = train_test_split(\n",
        "    X, y_binary, test_size=0.2, random_state=42, stratify=y_binary\n",
        ")\n",
        "\n",
        "# Set up scaler\n",
        "scaler = StandardScaler()\n",
        "\n",
        "# Fit on training data only\n",
        "X_train_scaled = scaler.fit_transform(X_train_clf)\n",
        "\n",
        "# Apply same transformation to test data\n",
        "X_test_scaled = scaler.transform(X_test_clf)"
      ],
      "metadata": {
        "id": "taF23f9AwvXp"
      },
      "execution_count": null,
      "outputs": []
    },
    {
      "cell_type": "markdown",
      "source": [
        "### Logistic Regression"
      ],
      "metadata": {
        "id": "c_-T75MIxBlK"
      }
    },
    {
      "cell_type": "markdown",
      "source": [
        "We will now import the Linear Regression Model"
      ],
      "metadata": {
        "id": "Ky3QHaHbBUB7"
      }
    },
    {
      "cell_type": "code",
      "source": [
        "from sklearn.linear_model import LogisticRegression"
      ],
      "metadata": {
        "id": "8o5o7jxXBnPY"
      },
      "execution_count": null,
      "outputs": []
    },
    {
      "cell_type": "markdown",
      "source": [
        "And we can now initialise, train, and test it"
      ],
      "metadata": {
        "id": "n4Uay8AcBqey"
      }
    },
    {
      "cell_type": "code",
      "source": [
        "# initialise\n",
        "log_reg = LogisticRegression(max_iter=1000, random_state=42)\n",
        "# train\n",
        "log_reg.fit(X_train_scaled, y_train_clf)\n",
        "# predict\n",
        "y_pred = log_reg.predict(X_test_scaled)"
      ],
      "metadata": {
        "id": "Jo4NN2YJxG1m"
      },
      "execution_count": null,
      "outputs": []
    },
    {
      "cell_type": "markdown",
      "source": [
        "Later on, we will implement k-fold cross-validation but for now its a good idea to test the model to see how its predictions have worked out.\n",
        "\n",
        "We can do this by using the submodule `sklearn.metrics`"
      ],
      "metadata": {
        "id": "_ApWbX2sxVXx"
      }
    },
    {
      "cell_type": "code",
      "source": [
        "from sklearn.metrics import accuracy_score, classification_report, confusion_matrix"
      ],
      "metadata": {
        "id": "2I13h-ZsC6pw"
      },
      "execution_count": null,
      "outputs": []
    },
    {
      "cell_type": "markdown",
      "source": [
        "The performance data for the Logistic Regression Model is as follows. This data will be analysed later in k-fold cross-validation."
      ],
      "metadata": {
        "id": "rK6CXZCAC86_"
      }
    },
    {
      "cell_type": "code",
      "source": [
        "print(\"Accuracy:\", accuracy_score(y_test_clf, y_pred))\n",
        "print(\"\\nConfusion Matrix:\\n\", confusion_matrix(y_test_clf, y_pred))\n",
        "print(\"\\nClassification Report:\\n\", classification_report(y_test_clf, y_pred))"
      ],
      "metadata": {
        "id": "9pFnF9S0xW9W"
      },
      "execution_count": null,
      "outputs": []
    },
    {
      "cell_type": "markdown",
      "source": [
        "### Random Forest Classifier"
      ],
      "metadata": {
        "id": "QAC2hjsixwzY"
      }
    },
    {
      "cell_type": "markdown",
      "source": [
        "We will now import the Random Forest Classifier"
      ],
      "metadata": {
        "id": "uRRv_UsJDJu_"
      }
    },
    {
      "cell_type": "code",
      "source": [
        "from sklearn.ensemble import RandomForestClassifier"
      ],
      "metadata": {
        "id": "t_6nAEz0DN2X"
      },
      "execution_count": null,
      "outputs": []
    },
    {
      "cell_type": "markdown",
      "source": [
        "Like we did for Logistic Regression, we can now initialise, train and predict from the model"
      ],
      "metadata": {
        "id": "1nazPx-aDPGi"
      }
    },
    {
      "cell_type": "code",
      "source": [
        "# initlialise\n",
        "rf = RandomForestClassifier(n_estimators=100, random_state=42)\n",
        "# train\n",
        "rf.fit(X_train_scaled, y_train_clf)\n",
        "# predict\n",
        "y_pred_rf = rf.predict(X_test_scaled)"
      ],
      "metadata": {
        "id": "kDolSBVjx4mc"
      },
      "execution_count": null,
      "outputs": []
    },
    {
      "cell_type": "markdown",
      "source": [
        "Evaluation to check it is working:"
      ],
      "metadata": {
        "id": "v5N7vsD6yBDl"
      }
    },
    {
      "cell_type": "code",
      "source": [
        "print(\"Accuracy:\", accuracy_score(y_test_clf, y_pred_rf))\n",
        "print(\"\\nConfusion Matrix:\\n\", confusion_matrix(y_test_clf, y_pred_rf))\n",
        "print(\"\\nClassification Report:\\n\", classification_report(y_test_clf, y_pred_rf))"
      ],
      "metadata": {
        "id": "x2rRDEVLyCI2"
      },
      "execution_count": null,
      "outputs": []
    },
    {
      "cell_type": "markdown",
      "source": [
        "### Continuous Regression"
      ],
      "metadata": {
        "id": "2X4ekHz7z4HU"
      }
    },
    {
      "cell_type": "markdown",
      "source": [
        "Now moving onto continuouts regression, we need to redefine y fore regression as it is now predicting a number, not a binary value."
      ],
      "metadata": {
        "id": "vYKdEXyYz9ik"
      }
    },
    {
      "cell_type": "code",
      "source": [
        "y_reg = wine_all[\"quality\"]"
      ],
      "metadata": {
        "id": "ywGPqGIG0HCT"
      },
      "execution_count": null,
      "outputs": []
    },
    {
      "cell_type": "markdown",
      "source": [
        "And just like we did for classification, we will split and scale the data in the same way"
      ],
      "metadata": {
        "id": "3Q7NEBCk0L10"
      }
    },
    {
      "cell_type": "code",
      "source": [
        "# 80% train, 20% test split\n",
        "X_train_reg, X_test_reg, y_train_reg, y_test_reg = train_test_split(\n",
        "    X, y_reg, test_size=0.2, random_state=42\n",
        ")\n",
        "\n",
        "# Set up scaler\n",
        "scaler = StandardScaler()\n",
        "\n",
        "# Fit on training data only\n",
        "X_train_scaled = scaler.fit_transform(X_train_reg)\n",
        "\n",
        "# Apply same transformation to test data\n",
        "X_test_scaled = scaler.transform(X_test_reg)"
      ],
      "metadata": {
        "id": "u0MmOuwm0P6v"
      },
      "execution_count": null,
      "outputs": []
    },
    {
      "cell_type": "markdown",
      "source": [
        "### Linear Regression"
      ],
      "metadata": {
        "id": "n8YiG0iF0U1v"
      }
    },
    {
      "cell_type": "markdown",
      "source": [
        "We can now import the Linear Regression Model"
      ],
      "metadata": {
        "id": "EDjJ-dX5EbjD"
      }
    },
    {
      "cell_type": "code",
      "source": [
        "from sklearn.linear_model import LinearRegression"
      ],
      "metadata": {
        "id": "W-38P9WQEdto"
      },
      "execution_count": null,
      "outputs": []
    },
    {
      "cell_type": "markdown",
      "source": [
        "And now we can once again initialise, train and predict from this model"
      ],
      "metadata": {
        "id": "ih9EYEZAEtuf"
      }
    },
    {
      "cell_type": "code",
      "source": [
        "# initialise\n",
        "lin_reg = LinearRegression()\n",
        "# train\n",
        "lin_reg.fit(X_train_scaled, y_train_reg)\n",
        "# predict\n",
        "y_pred = lin_reg.predict(X_test_scaled)"
      ],
      "metadata": {
        "id": "LUkfu4UU0YJc"
      },
      "execution_count": null,
      "outputs": []
    },
    {
      "cell_type": "markdown",
      "source": [
        "Instead of accuracy, regression models' performance are evaluated using MSE and RMSE. We will need to import 2 packages to help us with this"
      ],
      "metadata": {
        "id": "-kCztSAh0mw2"
      }
    },
    {
      "cell_type": "code",
      "source": [
        "from sklearn.metrics import mean_squared_error\n",
        "import numpy as np"
      ],
      "metadata": {
        "id": "UrHDl-dNFmgy"
      },
      "execution_count": null,
      "outputs": []
    },
    {
      "cell_type": "markdown",
      "source": [
        "Now we can calculate the MSE and RMSE to check how this model has performed"
      ],
      "metadata": {
        "id": "mxMbynEFFnBv"
      }
    },
    {
      "cell_type": "code",
      "source": [
        "mse = mean_squared_error(y_test_reg, y_pred)\n",
        "rmse = np.sqrt(mean_squared_error(y_test_reg, y_pred))\n",
        "\n",
        "print(f\"Linear Regression MSE: {mse:.2f}\")\n",
        "print(f\"Linear Regression RMSE: {rmse:.2f}\")"
      ],
      "metadata": {
        "id": "3KT35jDa0pz4"
      },
      "execution_count": null,
      "outputs": []
    },
    {
      "cell_type": "markdown",
      "source": [
        "### Random Forest Regressor"
      ],
      "metadata": {
        "id": "3sRfg7IS1Jou"
      }
    },
    {
      "cell_type": "markdown",
      "source": [
        "We can now import our final model, the Random Forest Regressor"
      ],
      "metadata": {
        "id": "CYZXSNUqFw0H"
      }
    },
    {
      "cell_type": "code",
      "source": [
        "from sklearn.ensemble import RandomForestRegressor"
      ],
      "metadata": {
        "id": "p8CXS-bpF2H5"
      },
      "execution_count": null,
      "outputs": []
    },
    {
      "cell_type": "markdown",
      "source": [
        "We can then initalise it, and use our data to train and predict from it"
      ],
      "metadata": {
        "id": "e7GryFOHF4FE"
      }
    },
    {
      "cell_type": "code",
      "source": [
        "# initialise\n",
        "rf_reg = RandomForestRegressor(n_estimators=100, random_state=42)\n",
        "# train\n",
        "rf_reg.fit(X_train_scaled, y_train_reg)\n",
        "# predict\n",
        "y_pred_rf = rf_reg.predict(X_test_scaled)"
      ],
      "metadata": {
        "id": "KMU87qzt1NOn"
      },
      "execution_count": null,
      "outputs": []
    },
    {
      "cell_type": "markdown",
      "source": [
        "Then evaluate it's performance the same way we did Linear Regression"
      ],
      "metadata": {
        "id": "fVtsCT241oiF"
      }
    },
    {
      "cell_type": "code",
      "source": [
        "mse_rf = mean_squared_error(y_test_reg, y_pred_rf)\n",
        "rmse_rf = np.sqrt(mean_squared_error(y_test_reg, y_pred_rf))\n",
        "\n",
        "print(f\"Random Forest MSE: {mse_rf:.2f}\")\n",
        "print(f\"Random Forest RMSE: {rmse_rf:.2f}\")"
      ],
      "metadata": {
        "id": "bt-f0hJT1qPY"
      },
      "execution_count": null,
      "outputs": []
    },
    {
      "cell_type": "markdown",
      "source": [
        "## Model Evaluation using k-fold cross-validation"
      ],
      "metadata": {
        "id": "_SIk68SR2xXW"
      }
    },
    {
      "cell_type": "markdown",
      "source": [
        "We will now evaluate our models using k-fold cross-validation. Why? Because it uses all our data for both training and testing and reduces the chance that our evaluation it biased by a lucky/unlucky split"
      ],
      "metadata": {
        "id": "QojE4k2E3x9-"
      }
    },
    {
      "cell_type": "markdown",
      "source": [
        "To start with we need to import the module required"
      ],
      "metadata": {
        "id": "ZkdwbDdiGszi"
      }
    },
    {
      "cell_type": "code",
      "source": [
        "from sklearn.model_selection import cross_val_score"
      ],
      "metadata": {
        "id": "TCUEiRsX31WL"
      },
      "execution_count": null,
      "outputs": []
    },
    {
      "cell_type": "markdown",
      "source": [
        "### Binary Classification"
      ],
      "metadata": {
        "id": "9JINHS6p62UV"
      }
    },
    {
      "cell_type": "markdown",
      "source": [
        "I have chosen that our classification results will be scored by\n",
        "\n",
        "* F1 Score\n",
        "* Accuracy\n",
        "* AUC Score\n",
        "\n",
        "Evaluating over multiple value types allows us to be able to draw better conclusions about its performance. I have chosen to calculate the standard deviation of the F1 Score to determine whether our data has been subject to overfitting as well."
      ],
      "metadata": {
        "id": "Lpq7UUP1HMR9"
      }
    },
    {
      "cell_type": "markdown",
      "source": [
        "### Logistic Regression"
      ],
      "metadata": {
        "id": "YJo0dclQ24h2"
      }
    },
    {
      "cell_type": "code",
      "source": [
        "f1_scores_log = cross_val_score(log_reg, X_train_scaled, y_train_clf, cv=5, scoring='f1')\n",
        "accuracy_scores_log = cross_val_score(log_reg, X_train_scaled, y_train_clf, cv=5, scoring='accuracy')\n",
        "auc_scores = cross_val_score(log_reg, X_train_scaled, y_train_clf, cv=5, scoring='roc_auc')\n",
        "\n",
        "print(\"Logistic Regression Cross-Validation Results:\")\n",
        "print(f\"Mean F1 Score: {f1_scores_log.mean():.3f}\")\n",
        "print(f\"Std Dev F1 Score: {f1_scores_log.std():.3f}\")\n",
        "print(f\"Mean Accuracy: {accuracy_scores_log.mean():.3f}\")\n",
        "print(f\"Mean AUC Score: {auc_scores.mean():.3f}\")"
      ],
      "metadata": {
        "id": "cumaJZQr3rM9"
      },
      "execution_count": null,
      "outputs": []
    },
    {
      "cell_type": "markdown",
      "source": [
        "### Random Forest Classifier"
      ],
      "metadata": {
        "id": "pUCWlWaj6C7B"
      }
    },
    {
      "cell_type": "code",
      "source": [
        "f1_scores = cross_val_score(rf, X_train_scaled, y_train_clf, cv=5, scoring='f1')\n",
        "accuracy_scores = cross_val_score(rf, X_train_scaled, y_train_clf, cv=5, scoring='accuracy')\n",
        "auc_scores = cross_val_score(rf, X_train_scaled, y_train_clf, cv=5, scoring='roc_auc')\n",
        "\n",
        "print(\"Random Forest Classifier Cross-Validation Results:\")\n",
        "print(f\"Mean F1 Score: {f1_scores.mean():.3f}\")\n",
        "print(f\"Std Dev F1 Score: {f1_scores_log.std():.3f}\")\n",
        "print(f\"Mean Accuracy: {accuracy_scores.mean():.3f}\")\n",
        "print(f\"Mean AUC Score: {auc_scores.mean():.3f}\")"
      ],
      "metadata": {
        "id": "_eadosJS6FuN"
      },
      "execution_count": null,
      "outputs": []
    },
    {
      "cell_type": "markdown",
      "source": [
        "### Continuous Regression"
      ],
      "metadata": {
        "id": "tOvtoyew67tf"
      }
    },
    {
      "cell_type": "markdown",
      "source": [
        "For regression, I have chosen to evaluate the performance over the models by calculating:\n",
        "\n",
        "* MSE (Mean Squared Error)\n",
        "* RMSE (Root Mean Squared Error)\n",
        "\n",
        "`sklearn` has a built in scorer for MSE but we need to create one for RMSE\n",
        "\n",
        "For regression I have decided to also calculate the standard deviation of the RMSE scores so that we can look for signs of overfitting"
      ],
      "metadata": {
        "id": "Zuuj_Isu7FyB"
      }
    },
    {
      "cell_type": "code",
      "source": [
        "from sklearn.metrics import make_scorer, mean_squared_error\n",
        "\n",
        "# Custom scorer for RMSE\n",
        "rmse_scorer = make_scorer(lambda y_true, y_pred: np.sqrt(mean_squared_error(y_true, y_pred)), greater_is_better=False)\n",
        "# MSE scorer\n",
        "mse_scorer = 'neg_mean_squared_error'"
      ],
      "metadata": {
        "id": "J8pO17267El3"
      },
      "execution_count": null,
      "outputs": []
    },
    {
      "cell_type": "markdown",
      "source": [
        "### Linear Regression"
      ],
      "metadata": {
        "id": "8Hc16xQC6dMV"
      }
    },
    {
      "cell_type": "code",
      "source": [
        "rmse_scores_lin = cross_val_score(lin_reg, X_train_scaled, y_train_reg, cv=5, scoring=rmse_scorer)\n",
        "mse_scores_lin = cross_val_score(lin_reg, X_train_scaled, y_train_reg, cv=5, scoring=mse_scorer)\n",
        "\n",
        "print(\"Linear Regression Cross-Validation Results:\")\n",
        "print(f\"Mean RMSE: {-rmse_scores_lin.mean():.3f}\")\n",
        "print(f\"Mean MSE: {-mse_scores_lin.mean():.3f}\")\n",
        "print(f\"Std Dev RMSE: {rmse_scores_lin.std():.3f}\")"
      ],
      "metadata": {
        "id": "S1mZgDjc6fYg"
      },
      "execution_count": null,
      "outputs": []
    },
    {
      "cell_type": "markdown",
      "source": [
        "### Random Forest Regressor"
      ],
      "metadata": {
        "id": "CJcaw8iN7ZOT"
      }
    },
    {
      "cell_type": "code",
      "source": [
        "rmse_scores = cross_val_score(rf_reg, X_train_scaled, y_train_reg, cv=5, scoring=rmse_scorer)\n",
        "mse_scores_lin = cross_val_score(rf_reg, X_train_scaled, y_train_reg, cv=5, scoring=mse_scorer)\n",
        "\n",
        "print(\"Random Forest Regressor Cross-Validation Results:\")\n",
        "print(f\"Mean RMSE: {-rmse_scores.mean():.3f}\")\n",
        "print(f\"Mean MSE: {-mse_scores_lin.mean():.3f}\")\n",
        "print(f\"Std Dev RMSE: {rmse_scores_lin.std():.3f}\")"
      ],
      "metadata": {
        "id": "CIi-yXfx7eWj"
      },
      "execution_count": null,
      "outputs": []
    }
  ]
}